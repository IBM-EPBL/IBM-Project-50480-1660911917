{
 "cells": [
  {
   "cell_type": "markdown",
   "id": "cc7a7e4c",
   "metadata": {},
   "source": [
    "## Import Required Packages"
   ]
  },
  {
   "cell_type": "code",
   "execution_count": 1,
   "id": "c8fe0598",
   "metadata": {},
   "outputs": [],
   "source": [
    "import numpy as np\n",
    "import pandas as pd\n",
    "from keras.preprocessing.image import ImageDataGenerator"
   ]
  },
  {
   "cell_type": "markdown",
   "id": "5d8da22c",
   "metadata": {},
   "source": [
    "## Loading The Data"
   ]
  },
  {
   "cell_type": "code",
   "execution_count": 2,
   "id": "8ec3e9be",
   "metadata": {},
   "outputs": [],
   "source": [
    "train_directory = 'Dataset/TRAIN_SET'\n",
    "test_directory = 'Dataset/TEST_SET'"
   ]
  },
  {
   "cell_type": "markdown",
   "id": "54015a4b",
   "metadata": {},
   "source": [
    "## Data Agumentation"
   ]
  },
  {
   "cell_type": "code",
   "execution_count": 4,
   "id": "5463c49e",
   "metadata": {},
   "outputs": [],
   "source": [
    "train_datagen = ImageDataGenerator(rescale=1./255,shear_range = 0.2,zoom_range=0.2,horizontal_flip=True)\n",
    "test_datagen = ImageDataGenerator(rescale=1./255)"
   ]
  },
  {
   "cell_type": "markdown",
   "id": "7c846ed9",
   "metadata": {},
   "source": [
    "## Performimg the Data Generation"
   ]
  },
  {
   "cell_type": "code",
   "execution_count": 5,
   "id": "de418290",
   "metadata": {},
   "outputs": [
    {
     "name": "stdout",
     "output_type": "stream",
     "text": [
      "Found 4118 images belonging to 5 classes.\n"
     ]
    }
   ],
   "source": [
    "#performing the data agumentation to training data\n",
    "x_train = train_datagen.flow_from_directory(\n",
    "train_directory, \n",
    "target_size=(64,64), \n",
    "color_mode='rgb', \n",
    "batch_size=5, \n",
    "class_mode='sparse',\n",
    ")"
   ]
  },
  {
   "cell_type": "code",
   "execution_count": 6,
   "id": "92adcf21",
   "metadata": {},
   "outputs": [
    {
     "name": "stdout",
     "output_type": "stream",
     "text": [
      "Found 929 images belonging to 5 classes.\n"
     ]
    }
   ],
   "source": [
    "#performing the data agumentation to testing data\n",
    "x_test = train_datagen.flow_from_directory(\n",
    "test_directory, \n",
    "target_size=(64,64), \n",
    "color_mode='rgb', \n",
    "batch_size=5, \n",
    "class_mode='sparse',\n",
    ")"
   ]
  },
  {
   "cell_type": "code",
   "execution_count": 7,
   "id": "2d5711e1",
   "metadata": {},
   "outputs": [
    {
     "name": "stdout",
     "output_type": "stream",
     "text": [
      "{'APPLES': 0, 'BANANA': 1, 'ORANGE': 2, 'PINEAPPLE': 3, 'WATERMELON': 4}\n"
     ]
    }
   ],
   "source": [
    "print(x_train.class_indices)"
   ]
  },
  {
   "cell_type": "code",
   "execution_count": 8,
   "id": "d6c16f25",
   "metadata": {},
   "outputs": [
    {
     "name": "stdout",
     "output_type": "stream",
     "text": [
      "{'APPLES': 0, 'BANANA': 1, 'ORANGE': 2, 'PINEAPPLE': 3, 'WATERMELON': 4}\n"
     ]
    }
   ],
   "source": [
    "print(x_test.class_indices)"
   ]
  },
  {
   "cell_type": "markdown",
   "id": "bb374a5d",
   "metadata": {},
   "source": [
    "## Number of images for each class"
   ]
  },
  {
   "cell_type": "code",
   "execution_count": 11,
   "id": "fc5e1835",
   "metadata": {},
   "outputs": [
    {
     "name": "stdout",
     "output_type": "stream",
     "text": [
      "Number of images in Training data :  Counter({1: 1354, 2: 1019, 0: 995, 4: 475, 3: 275})\n"
     ]
    }
   ],
   "source": [
    "from collections import Counter as c\n",
    "print(\"Number of images in Training data : \", c(x_train.labels))"
   ]
  },
  {
   "cell_type": "code",
   "execution_count": 12,
   "id": "85e052a0",
   "metadata": {},
   "outputs": [
    {
     "name": "stdout",
     "output_type": "stream",
     "text": [
      "Number of images in Training data :  Counter({1: 415, 0: 266, 2: 248})\n"
     ]
    }
   ],
   "source": [
    "print(\"Number of images in Training data : \", c(x_test.labels))"
   ]
  },
  {
   "cell_type": "code",
   "execution_count": null,
   "id": "8cb60386",
   "metadata": {},
   "outputs": [],
   "source": []
  }
 ],
 "metadata": {
  "kernelspec": {
   "display_name": "Python 3 (ipykernel)",
   "language": "python",
   "name": "python3"
  },
  "language_info": {
   "codemirror_mode": {
    "name": "ipython",
    "version": 3
   },
   "file_extension": ".py",
   "mimetype": "text/x-python",
   "name": "python",
   "nbconvert_exporter": "python",
   "pygments_lexer": "ipython3",
   "version": "3.9.7"
  }
 },
 "nbformat": 4,
 "nbformat_minor": 5
}
