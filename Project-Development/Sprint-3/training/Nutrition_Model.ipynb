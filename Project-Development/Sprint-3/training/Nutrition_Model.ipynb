{
 "cells": [
  {
   "cell_type": "markdown",
   "id": "cc7a7e4c",
   "metadata": {},
   "source": [
    "## Import Required Packages"
   ]
  },
  {
   "cell_type": "code",
   "execution_count": 124,
   "id": "c8fe0598",
   "metadata": {},
   "outputs": [],
   "source": [
    "import numpy as np\n",
    "import pandas as pd\n",
    "import tensorflow\n",
    "from tensorflow.keras.models import Sequential \n",
    "from tensorflow.keras import layers\n",
    "from tensorflow.keras.layers import Dense ,Flatten\n",
    "from tensorflow.keras.layers import Conv2D , MaxPooling2D , Dropout\n",
    "from keras.preprocessing.image import ImageDataGenerator"
   ]
  },
  {
   "cell_type": "markdown",
   "id": "5d8da22c",
   "metadata": {},
   "source": [
    "## Loading The Data"
   ]
  },
  {
   "cell_type": "code",
   "execution_count": 125,
   "id": "8ec3e9be",
   "metadata": {},
   "outputs": [],
   "source": [
    "train_directory = 'Dataset/TRAIN_SET'\n",
    "test_directory = 'Dataset/TEST_SET'"
   ]
  },
  {
   "cell_type": "markdown",
   "id": "54015a4b",
   "metadata": {},
   "source": [
    "- Data Agumentation\n",
    "- Performimg the Data Generation"
   ]
  },
  {
   "cell_type": "code",
   "execution_count": 126,
   "id": "5463c49e",
   "metadata": {},
   "outputs": [],
   "source": [
    "train_datagen = ImageDataGenerator(rescale=1./255,shear_range = 0.2,zoom_range=0.2,horizontal_flip=True)\n",
    "test_datagen = ImageDataGenerator(rescale=1./255)"
   ]
  },
  {
   "cell_type": "code",
   "execution_count": 127,
   "id": "de418290",
   "metadata": {},
   "outputs": [
    {
     "name": "stdout",
     "output_type": "stream",
     "text": [
      "Found 4118 images belonging to 5 classes.\n"
     ]
    }
   ],
   "source": [
    "#performing the data agumentation to training data\n",
    "x_train = train_datagen.flow_from_directory(\n",
    "train_directory, \n",
    "target_size=(64,64), \n",
    "color_mode='rgb', \n",
    "batch_size=5, \n",
    "class_mode='sparse',\n",
    ")"
   ]
  },
  {
   "cell_type": "code",
   "execution_count": 128,
   "id": "92adcf21",
   "metadata": {},
   "outputs": [
    {
     "name": "stdout",
     "output_type": "stream",
     "text": [
      "Found 929 images belonging to 5 classes.\n"
     ]
    }
   ],
   "source": [
    "#performing the data agumentation to testing data\n",
    "x_test = train_datagen.flow_from_directory(\n",
    "test_directory, \n",
    "target_size=(64,64), \n",
    "color_mode='rgb', \n",
    "batch_size=5, \n",
    "class_mode='sparse',\n",
    ")"
   ]
  },
  {
   "cell_type": "code",
   "execution_count": 129,
   "id": "2d5711e1",
   "metadata": {},
   "outputs": [
    {
     "name": "stdout",
     "output_type": "stream",
     "text": [
      "{'APPLES': 0, 'BANANA': 1, 'ORANGE': 2, 'PINEAPPLE': 3, 'WATERMELON': 4}\n"
     ]
    }
   ],
   "source": [
    "print(x_train.class_indices)"
   ]
  },
  {
   "cell_type": "code",
   "execution_count": 130,
   "id": "d6c16f25",
   "metadata": {},
   "outputs": [
    {
     "name": "stdout",
     "output_type": "stream",
     "text": [
      "{'APPLES': 0, 'BANANA': 1, 'ORANGE': 2, 'PINEAPPLE': 3, 'WATERMELON': 4}\n"
     ]
    }
   ],
   "source": [
    "print(x_test.class_indices)"
   ]
  },
  {
   "cell_type": "markdown",
   "id": "bb374a5d",
   "metadata": {},
   "source": [
    "## Number of images for each class"
   ]
  },
  {
   "cell_type": "code",
   "execution_count": 131,
   "id": "fc5e1835",
   "metadata": {},
   "outputs": [
    {
     "name": "stdout",
     "output_type": "stream",
     "text": [
      "Number of images in Training data :  Counter({1: 1354, 2: 1019, 0: 995, 4: 475, 3: 275})\n"
     ]
    }
   ],
   "source": [
    "from collections import Counter as c\n",
    "print(\"Number of images in Training data : \", c(x_train.labels))"
   ]
  },
  {
   "cell_type": "code",
   "execution_count": 132,
   "id": "85e052a0",
   "metadata": {},
   "outputs": [
    {
     "name": "stdout",
     "output_type": "stream",
     "text": [
      "Number of images in Training data :  Counter({1: 415, 0: 266, 2: 248})\n"
     ]
    }
   ],
   "source": [
    "print(\"Number of images in Training data : \", c(x_test.labels))"
   ]
  },
  {
   "cell_type": "markdown",
   "id": "79f585d9",
   "metadata": {},
   "source": [
    "## Creating the model"
   ]
  },
  {
   "cell_type": "code",
   "execution_count": 133,
   "id": "f4b44274",
   "metadata": {},
   "outputs": [],
   "source": [
    "## initialize the model\n",
    "model = Sequential()"
   ]
  },
  {
   "cell_type": "code",
   "execution_count": 134,
   "id": "afb64d2c",
   "metadata": {},
   "outputs": [],
   "source": [
    "## Adding the CNN layers"
   ]
  },
  {
   "cell_type": "code",
   "execution_count": 135,
   "id": "85638f6c",
   "metadata": {},
   "outputs": [],
   "source": [
    "model.add(Conv2D(32, (3, 3), input_shape=(64, 64, 3), activation = \"relu\"))\n",
    "model.add(MaxPooling2D(pool_size=(2,2)))\n",
    "\n",
    "model.add(Conv2D(32, (3, 3), activation = 'relu'))\n",
    "\n",
    "model.add(MaxPooling2D(pool_size=(2, 2)))\n",
    "\n",
    "model.add(Flatten())\n",
    "\n",
    "model.add(Dense(units=128, activation='relu'))\n",
    "model.add(Dense(units=5, activation='softmax'))"
   ]
  },
  {
   "cell_type": "code",
   "execution_count": 136,
   "id": "9ccb5711",
   "metadata": {},
   "outputs": [
    {
     "name": "stdout",
     "output_type": "stream",
     "text": [
      "Model: \"sequential_6\"\n",
      "_________________________________________________________________\n",
      " Layer (type)                Output Shape              Param #   \n",
      "=================================================================\n",
      " conv2d_14 (Conv2D)          (None, 62, 62, 32)        896       \n",
      "                                                                 \n",
      " max_pooling2d_12 (MaxPoolin  (None, 31, 31, 32)       0         \n",
      " g2D)                                                            \n",
      "                                                                 \n",
      " conv2d_15 (Conv2D)          (None, 29, 29, 32)        9248      \n",
      "                                                                 \n",
      " max_pooling2d_13 (MaxPoolin  (None, 14, 14, 32)       0         \n",
      " g2D)                                                            \n",
      "                                                                 \n",
      " flatten_6 (Flatten)         (None, 6272)              0         \n",
      "                                                                 \n",
      " dense_10 (Dense)            (None, 128)               802944    \n",
      "                                                                 \n",
      " dense_11 (Dense)            (None, 5)                 645       \n",
      "                                                                 \n",
      "=================================================================\n",
      "Total params: 813,733\n",
      "Trainable params: 813,733\n",
      "Non-trainable params: 0\n",
      "_________________________________________________________________\n"
     ]
    }
   ],
   "source": [
    "model.summary()"
   ]
  },
  {
   "cell_type": "code",
   "execution_count": null,
   "id": "227d6075",
   "metadata": {},
   "outputs": [],
   "source": []
  },
  {
   "cell_type": "code",
   "execution_count": 137,
   "id": "74b7be67",
   "metadata": {},
   "outputs": [],
   "source": [
    "## Compiling the model"
   ]
  },
  {
   "cell_type": "code",
   "execution_count": 140,
   "id": "36ff28b7",
   "metadata": {},
   "outputs": [],
   "source": [
    "model.compile(optimizer='adam', loss='sparse_categorical_crossentropy', metrics=['accuracy'])"
   ]
  },
  {
   "cell_type": "code",
   "execution_count": 141,
   "id": "b15f3eb6",
   "metadata": {},
   "outputs": [
    {
     "name": "stdout",
     "output_type": "stream",
     "text": [
      "Epoch 1/5\n"
     ]
    },
    {
     "name": "stderr",
     "output_type": "stream",
     "text": [
      "C:\\Users\\ajaya\\AppData\\Local\\Temp/ipykernel_17732/1495437019.py:1: UserWarning: `Model.fit_generator` is deprecated and will be removed in a future version. Please use `Model.fit`, which supports generators.\n",
      "  model.fit_generator(generator=x_train, steps_per_epoch=len(x_train),\n"
     ]
    },
    {
     "name": "stdout",
     "output_type": "stream",
     "text": [
      "824/824 [==============================] - 38s 46ms/step - loss: 0.6105 - accuracy: 0.7579 - val_loss: 0.5003 - val_accuracy: 0.8041\n",
      "Epoch 2/5\n",
      "824/824 [==============================] - 17s 20ms/step - loss: 0.4162 - accuracy: 0.8441 - val_loss: 0.6243 - val_accuracy: 0.7933\n",
      "Epoch 3/5\n",
      "824/824 [==============================] - 20s 24ms/step - loss: 0.3799 - accuracy: 0.8579 - val_loss: 0.3956 - val_accuracy: 0.8515\n",
      "Epoch 4/5\n",
      "824/824 [==============================] - 18s 22ms/step - loss: 0.3402 - accuracy: 0.8740 - val_loss: 0.4144 - val_accuracy: 0.8471\n",
      "Epoch 5/5\n",
      "824/824 [==============================] - 19s 23ms/step - loss: 0.3152 - accuracy: 0.8786 - val_loss: 0.4721 - val_accuracy: 0.8105\n"
     ]
    },
    {
     "data": {
      "text/plain": [
       "<keras.callbacks.History at 0x17ad4cf59a0>"
      ]
     },
     "execution_count": 141,
     "metadata": {},
     "output_type": "execute_result"
    }
   ],
   "source": [
    "model.fit_generator(generator=x_train, steps_per_epoch=len(x_train),\n",
    "                   epochs=5, validation_data=x_test, validation_steps=len(x_test))"
   ]
  },
  {
   "cell_type": "code",
   "execution_count": 167,
   "id": "46c468a5",
   "metadata": {},
   "outputs": [],
   "source": [
    "## Saving the model\n",
    "model.save('model.h5')"
   ]
  },
  {
   "cell_type": "code",
   "execution_count": 159,
   "id": "9deb92f1",
   "metadata": {},
   "outputs": [],
   "source": [
    "##Testing"
   ]
  },
  {
   "cell_type": "code",
   "execution_count": 160,
   "id": "40a39cab",
   "metadata": {},
   "outputs": [],
   "source": [
    "from tensorflow.keras.models import load_model\n",
    "from keras.preprocessing import image"
   ]
  },
  {
   "cell_type": "code",
   "execution_count": 168,
   "id": "e4ca6dee",
   "metadata": {},
   "outputs": [],
   "source": [
    "model = load_model('model.h5')"
   ]
  },
  {
   "cell_type": "code",
   "execution_count": 162,
   "id": "c9247e97",
   "metadata": {},
   "outputs": [],
   "source": [
    "#Testcases"
   ]
  },
  {
   "cell_type": "code",
   "execution_count": 163,
   "id": "f258b1ef",
   "metadata": {},
   "outputs": [],
   "source": [
    "#1\n",
    "img=image.load_img(r\"E:\\Imarticus\\NalaiyaThiran\\Dataset\\TRAIN_SET\\WATERMELON\\14_100.jpg\", grayscale=False, target_size=(64, 64))\n",
    "x = image.img_to_array(img)\n",
    "x = np.expand_dims(x, axis = 0)"
   ]
  },
  {
   "cell_type": "code",
   "execution_count": 164,
   "id": "6f8be812",
   "metadata": {},
   "outputs": [
    {
     "data": {
      "text/plain": [
       "array([4], dtype=int64)"
      ]
     },
     "execution_count": 164,
     "metadata": {},
     "output_type": "execute_result"
    }
   ],
   "source": [
    "a=model.predict(x)\n",
    "ans=a.argmax(axis=-1)\n",
    "ans"
   ]
  },
  {
   "cell_type": "code",
   "execution_count": 165,
   "id": "b2913296",
   "metadata": {},
   "outputs": [
    {
     "data": {
      "text/plain": [
       "'w'"
      ]
     },
     "execution_count": 165,
     "metadata": {},
     "output_type": "execute_result"
    }
   ],
   "source": [
    "index=['a','b','o','p','w']\n",
    "result=str(index[ans[0]])\n",
    "result"
   ]
  },
  {
   "cell_type": "code",
   "execution_count": null,
   "id": "127a988b",
   "metadata": {},
   "outputs": [],
   "source": []
  }
 ],
 "metadata": {
  "kernelspec": {
   "display_name": "Python 3 (ipykernel)",
   "language": "python",
   "name": "python3"
  },
  "language_info": {
   "codemirror_mode": {
    "name": "ipython",
    "version": 3
   },
   "file_extension": ".py",
   "mimetype": "text/x-python",
   "name": "python",
   "nbconvert_exporter": "python",
   "pygments_lexer": "ipython3",
   "version": "3.9.7"
  }
 },
 "nbformat": 4,
 "nbformat_minor": 5
}
